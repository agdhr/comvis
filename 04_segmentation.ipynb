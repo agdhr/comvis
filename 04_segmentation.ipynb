{
 "cells": [
  {
   "cell_type": "code",
   "execution_count": null,
   "metadata": {
    "collapsed": true
   },
   "outputs": [],
   "source": [
    "# LIBRARIES\n",
    "import numpy as np\n",
    "import cv2\n",
    "import os\n",
    "from PIL import Image"
   ]
  },
  {
   "cell_type": "code",
   "execution_count": null,
   "outputs": [],
   "source": [
    "# --- path of the folder containing the images\n",
    "sourcePath = 'd://z/research/03-roi/20230119/ARABIKA'\n",
    "# --- path of the folder that will contain the modified image\n",
    "outputPath = 'd://z/research/04-segmented/20230119/ARABIKA'"
   ],
   "metadata": {
    "collapsed": false
   }
  },
  {
   "cell_type": "code",
   "execution_count": null,
   "outputs": [],
   "source": [
    "def dip_bgremoval(sourcePath, outputPath):\n",
    "    for imagePath in os.listdir(sourcePath):\n",
    "\n",
    "        # --- imagePath contains name of the image\n",
    "        inputPath = os.path.join(sourcePath, imagePath)\n",
    "\n",
    "        # --- inputPath contains the full directory name\n",
    "        #mg = Image.open(inputPath)\n",
    "        #filename = 'c://cv/research/03-roi/20230110/IMG-20230110_A_20230110_161122.png'\n",
    "        img = cv2.imread(inputPath)\n",
    "        h,w,c = img.shape\n",
    "        image = cv2.cvtColor(img, cv2.COLOR_BGR2GRAY)\n",
    "\n",
    "        #rgb = cv2.cvtColor(img, cv2.COLOR_BGR2RGB)\n",
    "        rectangle = (0, 0, h-1, w-1)\n",
    "        mask = np.zeros(img.shape[:2], np.uint8)\n",
    "        bgdModel = np.zeros((1, 65), np.float64)\n",
    "        fgdModel = np.zeros((1, 65), np.float64)\n",
    "        cv2.grabCut(img, mask, rectangle, bgdModel, fgdModel, 5, cv2.GC_INIT_WITH_RECT)\n",
    "        mask2 = np.where((mask == 2) | (mask == 0), 0, 1).astype('uint8')\n",
    "        image_ = img * mask2[:, :, np.newaxis]\n",
    "\n",
    "        tmp = cv2.cvtColor(image_, cv2.COLOR_BGR2GRAY)\n",
    "        thotsu, imgotsu = cv2.threshold(image, 0, 255, cv2.THRESH_BINARY + cv2.THRESH_OTSU)\n",
    "        b, g, r, = cv2.split(image_)\n",
    "        rgba = [r, g, b, imgotsu]\n",
    "        nobg = cv2.merge(rgba, 4)\n",
    "        image2 = cv2.cvtColor(nobg, cv2.COLOR_RGB2BGR)\n",
    "\n",
    "        print(\"Obtained threshold: \", thotsu)\n",
    "        #cv2.imshow('Background-Removed Image', image2)\n",
    "\n",
    "        segmented_filename = os.path.splitext(inputPath)[0] + '_segmented.png'\n",
    "        segmented_basename = os.path.basename(segmented_filename)\n",
    "        cv2.imwrite(os.path.join(outputPath, segmented_basename), image2)\n",
    "\n",
    "        #cv2.waitKey(0)\n",
    "        #cv2.destroyAllWindows\n",
    "\n",
    "# Ref : https://learnopencv.com/otsu-thresholding-with-opencv/"
   ],
   "metadata": {
    "collapsed": false
   }
  },
  {
   "cell_type": "code",
   "execution_count": null,
   "outputs": [],
   "source": [
    "if __name__ == '__main__':\n",
    "    dip_bgremoval(sourcePath, outputPath)"
   ],
   "metadata": {
    "collapsed": false
   }
  }
 ],
 "metadata": {
  "kernelspec": {
   "display_name": "Python 3",
   "language": "python",
   "name": "python3"
  },
  "language_info": {
   "codemirror_mode": {
    "name": "ipython",
    "version": 2
   },
   "file_extension": ".py",
   "mimetype": "text/x-python",
   "name": "python",
   "nbconvert_exporter": "python",
   "pygments_lexer": "ipython2",
   "version": "2.7.6"
  }
 },
 "nbformat": 4,
 "nbformat_minor": 0
}
