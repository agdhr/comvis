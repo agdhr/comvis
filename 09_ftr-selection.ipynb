{
 "cells": [
  {
   "cell_type": "code",
   "execution_count": null,
   "metadata": {
    "collapsed": true
   },
   "outputs": [],
   "source": [
    "# FEATURE SELECTION\n",
    "import pandas as pd\n",
    "import matplotlib.pyplot as plt\n",
    "import seaborn as sns\n",
    "from sklearn.feature_selection import SelectKBest, chi2, RFE, SelectFromModel\n",
    "from sklearn.linear_model import LogisticRegression\n",
    "from sklearn.ensemble import RandomForestClassifier, ExtraTreesClassifier\n",
    "from sklearn.model_selection import train_test_split\n",
    "from sklearn.preprocessing import OneHotEncoder\n",
    "from sklearn.preprocessing import StandardScaler"
   ]
  },
  {
   "cell_type": "code",
   "execution_count": null,
   "outputs": [],
   "source": [
    "# DATASET\n",
    "# --- Import Dataset 1\n",
    "dataset = pd.read_csv('11-df_coffee/dataset.csv')\n",
    "dataset.head(10)\n",
    "dataset.shape\n",
    "# --- Changing pandas dataframe to numpy array to determine X and y variables\n",
    "X = dataset.iloc[:,:85]#.values\n",
    "y = dataset.iloc[:,85:86]#.values\n",
    "(_,Xcol) = X.shape\n",
    "num_features = Xcol\n",
    "print(num_features)\n",
    "# --- Normalizing the data\n",
    "sc = StandardScaler()\n",
    "X = sc.fit_transform(X)\n",
    "# --- Determine classes (y variable) in training set\n",
    "ohe = OneHotEncoder()\n",
    "y = ohe.fit_transform(y).toarray()\n",
    "# --- Separating the dataset into training and validation set\n",
    "X_train, X_test, y_train, y_test = train_test_split(X, y, test_size=0.3)"
   ],
   "metadata": {
    "collapsed": false
   }
  },
  {
   "cell_type": "code",
   "execution_count": null,
   "outputs": [],
   "source": [
    "# Select K-Best Features\n",
    "def k_best_features(X, y, num_features):\n",
    "    bestFeatures = SelectKBest(score_func=chi2,  k=10)\n",
    "    fit = bestFeatures.fit(X, y)\n",
    "    datascores = pd.DataFrame(fit.scores_)\n",
    "    datacolumns = pd.DataFrame(X.columns)\n",
    "    featureScores = pd.concat([datacolumns, datascores], axis=1)\n",
    "    featureScores.columns = ['Spec', 'Score']\n",
    "    print(featureScores.nlargest(10, 'Score'))\n",
    "# Feature Importance\n",
    "def feature_importance(X,y,num_features):\n",
    "    modelFI = ExtraTreesClassifier()\n",
    "    modelFI.fit(X,y)\n",
    "    #print(modelFI.feature_importances_)\n",
    "    featureImportances = pd.Series(modelFI.feature_importances_, index=X.columns)\n",
    "    featureImportances.nlargest(10).plot(kind='barh')\n",
    "    plt.show()\n",
    "# Correlation Matrix with Heatmap\n",
    "def cormat_heatmap(X,y, num_features):\n",
    "    cormat = dataset.corr()\n",
    "    top_cor_ftr = cormat.index\n",
    "    plt.figure(figsize=(20,20))\n",
    "    # plot heat map\n",
    "    g = sns.heatmap(dataset[top_cor_ftr].corr(), annot=True, cmap=\"RdYlGn\")\n",
    "    # Correlation with output variable\n",
    "    cor_target = abs(cormat[\"Class\"])\n",
    "    # Selecting highly correlated features\n",
    "    relevant_features = cor_target[cor_target > 0.5]\n",
    "    print(relevant_features)\n",
    "# Recrusive Feature Elimination\n",
    "def recrusive_feature_elimination(X, y, num_features):\n",
    "    rfe_selector = RFE(estimator=RandomForestClassifier(n_estimators=10, random_state=10), n_features_to_select=10, step=2)\n",
    "    rfe_selector.fit(X,y)\n",
    "    rfe_support = rfe_selector.get_support()\n",
    "    rfe_features = X.loc[:,rfe_support].columns.tolist()\n",
    "    print(rfe_features)\n",
    "    print(str(len(rfe_features)), 'selected features')\n",
    "# Lasso: SelectFromModel\n",
    "def select_from_model(X, y, num_features):\n",
    "    embedded_linear_selector = SelectFromModel(LogisticRegression(penalty='l2'), max_features=10)\n",
    "    embedded_linear_selector.fit(X,y)\n",
    "    embedded_linear_selector = embedded_linear_selector.get_support()\n",
    "    embedded_linear_features = X.loc[:,embedded_linear_selector].columns.tolist()\n",
    "    print(embedded_linear_features)\n",
    "    print(str(len(embedded_linear_features)), 'selected features')\n",
    "# Tree-based: SelectFromModel\n",
    "def treebased_SelectFromModel(X, y, num_features):\n",
    "    embedded_randomforest_selector = SelectFromModel(RandomForestClassifier(n_estimators=100), max_features=10)\n",
    "    embedded_randomforest_selector.fit(X,y)\n",
    "    embedded_randomforest_selector = embedded_randomforest_selector.get_support()\n",
    "    embedded_randomforest_features = X.loc[:,embedded_randomforest_selector].columns.tolist()\n",
    "    print(embedded_randomforest_features)\n",
    "    print(str(len(embedded_randomforest_features)), 'selected features')\n"
   ],
   "metadata": {
    "collapsed": false
   }
  },
  {
   "cell_type": "code",
   "execution_count": null,
   "outputs": [],
   "source": [
    "if __name__ == '__main__':\n",
    "    k_best_features(X, y, num_features)\n",
    "    feature_importance(X, y, num_features)\n",
    "    recrusive_feature_elimination(X, y, num_features)\n",
    "    select_from_model(X, y, num_features)\n",
    "    treebased_SelectFromModel(X, y, num_features)\n"
   ],
   "metadata": {
    "collapsed": false
   }
  }
 ],
 "metadata": {
  "kernelspec": {
   "display_name": "Python 3",
   "language": "python",
   "name": "python3"
  },
  "language_info": {
   "codemirror_mode": {
    "name": "ipython",
    "version": 2
   },
   "file_extension": ".py",
   "mimetype": "text/x-python",
   "name": "python",
   "nbconvert_exporter": "python",
   "pygments_lexer": "ipython2",
   "version": "2.7.6"
  }
 },
 "nbformat": 4,
 "nbformat_minor": 0
}
