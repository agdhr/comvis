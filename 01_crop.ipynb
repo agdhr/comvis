{
 "cells": [
  {
   "cell_type": "code",
   "execution_count": 9,
   "metadata": {
    "collapsed": true
   },
   "outputs": [],
   "source": [
    "# IMPORT LIBRARIES\n",
    "from PIL import Image, ImageDraw, ImageFont\n",
    "import os"
   ]
  },
  {
   "cell_type": "code",
   "execution_count": 14,
   "outputs": [],
   "source": [
    "# IMPORT DATASET\n",
    "filename = '01-raw/20230117/ARABIKA/JA081.jpg'"
   ],
   "metadata": {
    "collapsed": false
   }
  },
  {
   "cell_type": "code",
   "execution_count": 15,
   "outputs": [],
   "source": [
    "# CROP\n",
    "def crop(filename):\n",
    "    im = Image.open(filename)\n",
    "    w, h = im.size\n",
    "    crop = (h, h)\n",
    "    left = round((im.size[0] - crop[0])/2)\n",
    "    top = round((im.size[1] - crop[1])/2)\n",
    "    im = im.crop((left, top, crop[0]+left, crop[1] + top))\n",
    "\n",
    "    im.show()\n",
    "\n",
    "    basename = os.path.basename(filename)\n",
    "    cropped_filename = os.path.splitext(filename)[0] + '_cropped.png'\n",
    "    cropped_basename = os.path.basename(cropped_filename)\n",
    "    cropped_image = im.save(cropped_basename)\n",
    "\n",
    "    return cropped_image"
   ],
   "metadata": {
    "collapsed": false
   }
  },
  {
   "cell_type": "code",
   "execution_count": 17,
   "outputs": [],
   "source": [
    "if __name__ == '__main__':\n",
    "    crop(filename)"
   ],
   "metadata": {
    "collapsed": false
   }
  }
 ],
 "metadata": {
  "kernelspec": {
   "display_name": "Python 3",
   "language": "python",
   "name": "python3"
  },
  "language_info": {
   "codemirror_mode": {
    "name": "ipython",
    "version": 2
   },
   "file_extension": ".py",
   "mimetype": "text/x-python",
   "name": "python",
   "nbconvert_exporter": "python",
   "pygments_lexer": "ipython2",
   "version": "2.7.6"
  }
 },
 "nbformat": 4,
 "nbformat_minor": 0
}
