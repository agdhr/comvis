{
 "cells": [
  {
   "cell_type": "code",
   "execution_count": null,
   "metadata": {
    "collapsed": true
   },
   "outputs": [],
   "source": [
    "from PIL import Image\n",
    "import os\n",
    "import cv2\n",
    "from pathlib import Path\n",
    "from rembg import remove, new_session"
   ]
  },
  {
   "cell_type": "code",
   "execution_count": null,
   "outputs": [],
   "source": [
    "inputDir = '04-segmented/20230119/ROBUSTA'\n",
    "outputDir = '05-transparent/20230119/ROBUSTA'\n",
    "inputFile = 'img_hsvimage.png'\n",
    "outputFile = 'img_hsv_nobg.png'"
   ],
   "metadata": {
    "collapsed": false
   }
  },
  {
   "cell_type": "code",
   "execution_count": null,
   "outputs": [],
   "source": [
    "def rembg_white(sourcePath, outputPath):\n",
    "\n",
    "    for imagePath in os.listdir(sourcePath):\n",
    "        # --- imagePath contains name of the image\n",
    "        inputPath = os.path.join(sourcePath, imagePath)\n",
    "\n",
    "        basename = os.path.basename(inputPath)\n",
    "        transparent_image = os.path.splitext(basename)[0] + '_transparent.png'\n",
    "\n",
    "        # --- inputPath contains the full directory name\n",
    "        img = Image.open(inputPath)\n",
    "        img = img.convert(\"RGBA\")\n",
    "\n",
    "        # --- fullOutPath contains the path of the output\n",
    "        fullOutPath = os.path.join(outputPath, transparent_image)\n",
    "\n",
    "        datas = img.getdata()\n",
    "\n",
    "        newData = []\n",
    "        for item in datas:\n",
    "            if item[0] == 0 and item[1] == 0 and item[2] ==0:   # 0 karena nilai [R,G,B] hitam adalah [0,0,0]\n",
    "                newData.append((255, 255, 255, 0))\n",
    "            else:\n",
    "                newData.append(item)\n",
    "        img.putdata(newData)\n",
    "        #img.show()\n",
    "\n",
    "        img.save(fullOutPath)\n",
    "\n",
    "        print(fullOutPath)"
   ],
   "metadata": {
    "collapsed": false
   }
  },
  {
   "cell_type": "code",
   "execution_count": null,
   "outputs": [],
   "source": [
    "def rembg_transparent_file(filename, outputname):\n",
    "    input = cv2.imread(filename)\n",
    "    output = remove(input)\n",
    "    cv2.imwrite(outputname, output)"
   ],
   "metadata": {
    "collapsed": false
   }
  },
  {
   "cell_type": "code",
   "execution_count": null,
   "outputs": [],
   "source": [
    "def rembg_transparent_dir(directory):\n",
    "\n",
    "    session = new_session()\n",
    "\n",
    "    for file in Path(directory).glob('*.png'):\n",
    "        input_path = str(file)\n",
    "        output_path = str(file.parent / (file.stem +'.nobg.png'))\n",
    "\n",
    "        with open(input_path, 'rb') as i:\n",
    "            with open(output_path, 'wb') as o:\n",
    "                input = i.read()\n",
    "                output = remove(input, session=session)\n",
    "                o.write(output)\n"
   ],
   "metadata": {
    "collapsed": false
   }
  },
  {
   "cell_type": "code",
   "execution_count": null,
   "outputs": [],
   "source": [
    "if __name__ == '__main__':\n",
    "    rembg_white(inputDir, outputDir)\n",
    "    rembg_transparent_file(inputFile, outputFile)\n",
    "    rembg_transparent_dir(inputDir)"
   ],
   "metadata": {
    "collapsed": false
   }
  }
 ],
 "metadata": {
  "kernelspec": {
   "display_name": "Python 3",
   "language": "python",
   "name": "python3"
  },
  "language_info": {
   "codemirror_mode": {
    "name": "ipython",
    "version": 2
   },
   "file_extension": ".py",
   "mimetype": "text/x-python",
   "name": "python",
   "nbconvert_exporter": "python",
   "pygments_lexer": "ipython2",
   "version": "2.7.6"
  }
 },
 "nbformat": 4,
 "nbformat_minor": 0
}
