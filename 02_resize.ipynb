{
 "cells": [
  {
   "cell_type": "code",
   "execution_count": null,
   "outputs": [],
   "source": [
    "# LIBRARIES\n",
    "from PIL import Image\n",
    "import os"
   ],
   "metadata": {
    "collapsed": false
   }
  },
  {
   "cell_type": "code",
   "execution_count": null,
   "outputs": [],
   "source": [
    "# IMPORT FILE\n",
    "# --- path of the folder containing the raw images\n",
    "sourcePath = 'c://cv/research/01-raw/20230110/'\n",
    "# --- path of the folder that will contain the modified image\n",
    "outputPath = 'c://cv/research/02-resized/20230110'"
   ],
   "metadata": {
    "collapsed": false
   }
  },
  {
   "cell_type": "code",
   "execution_count": null,
   "outputs": [],
   "source": [
    "def dip_resize(sourcePath, outputPath):\n",
    "    for imagePath in os.listdir(sourcePath):\n",
    "        # --- imagePath contains name of the image\n",
    "        inputPath = os.path.join(sourcePath, imagePath)\n",
    "\n",
    "        # --- inputPath contains the full directory name\n",
    "        img = Image.open(inputPath)\n",
    "\n",
    "        # --- fullOutPath contains the path of the output\n",
    "        fullOutPath = os.path.join(outputPath, imagePath)\n",
    "\n",
    "        # --- Resizing all images\n",
    "        newSize = (1000, 1000)\n",
    "        img = img.resize(newSize)\n",
    "\n",
    "        # --- Saving all modified images\n",
    "        img.save(fullOutPath)\n",
    "\n",
    "        print(fullOutPath)\n",
    "# Ref:\n",
    "# https://www.geeksforgeeks.org/apply-changes-to-all-the-images-in-given-folder-using-python-pil/\n",
    "# https://www.geeksforgeeks.org/python-pil-image-resize-method/"
   ],
   "metadata": {
    "collapsed": false
   }
  },
  {
   "cell_type": "code",
   "execution_count": null,
   "outputs": [],
   "source": [
    "if __name__ == '__main__':\n",
    "    dip_resize(sourcePath, outputPath)"
   ],
   "metadata": {
    "collapsed": false
   }
  }
 ],
 "metadata": {
  "kernelspec": {
   "display_name": "Python 3",
   "language": "python",
   "name": "python3"
  },
  "language_info": {
   "codemirror_mode": {
    "name": "ipython",
    "version": 2
   },
   "file_extension": ".py",
   "mimetype": "text/x-python",
   "name": "python",
   "nbconvert_exporter": "python",
   "pygments_lexer": "ipython2",
   "version": "2.7.6"
  }
 },
 "nbformat": 4,
 "nbformat_minor": 0
}
