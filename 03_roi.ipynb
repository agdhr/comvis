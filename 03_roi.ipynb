{
 "cells": [
  {
   "cell_type": "code",
   "execution_count": null,
   "metadata": {
    "collapsed": true
   },
   "outputs": [],
   "source": [
    "import os\n",
    "import cv2\n",
    "from datetime import datetime"
   ]
  },
  {
   "cell_type": "code",
   "execution_count": null,
   "outputs": [],
   "source": [
    "# Load the image and get its filename without path and dimensions.\n",
    "image_path = r'd:/z/research/computervision/01-raw/20230119/ROBUSTA/JR05S18.jpg'\n",
    "\n",
    "# Specify the directory to store/save all images\n",
    "output_dir = r'd:/z/research/computervision/03-roi/20230119/ROBUSTA'\n",
    "\n",
    "# Determine name of files\n",
    "basename = os.path.basename(image_path)\n",
    "current_datetime = datetime.now().strftime('%Y%m%d_%H%M%S')"
   ],
   "metadata": {
    "collapsed": false
   }
  },
  {
   "cell_type": "code",
   "execution_count": null,
   "outputs": [],
   "source": [
    "# Read images\n",
    "image = cv2.imread(image_path)\n",
    "h, w = image.shape[:2]"
   ],
   "metadata": {
    "collapsed": false
   }
  },
  {
   "cell_type": "code",
   "execution_count": null,
   "outputs": [],
   "source": [
    "# The coordinates defining the square selected will be kept in this list.\n",
    "select_coords = []\n",
    "# While we are in the process of selecting a region, this flag is True.\n",
    "selecting = False\n",
    "\n",
    "def get_square_coords(x, y, cx, cy):\n",
    "    \"\"\"\n",
    "    Get the diagonally-opposite coordinates of the square.\n",
    "    (cx, cy) are the coordinates of the square centre.\n",
    "    (x, y) is a selected point to which the largest square is to be matched.\n",
    "    \"\"\"\n",
    "    # Selected square edge half-length; don't stray outside the image boundary.\n",
    "    a = max(abs(cx-x), abs(cy-y))\n",
    "    a = min(a, w-cx, cx, h-cy, cy)\n",
    "    return cx-a, cy-a, cx+a, cy+a\n",
    "\n",
    "def region_selection(event, x, y, flags, param):\n",
    "    \"\"\"Callback function to handle mouse events related to region selection.\"\"\"\n",
    "    global select_coords, selecting, image\n",
    "\n",
    "    if event == cv2.EVENT_LBUTTONDOWN:\n",
    "        # Left mouse button down: begin the selection.\n",
    "        # The first coordinate pair is the centre of the square.\n",
    "        select_coords = [(x, y)]\n",
    "        selecting = True\n",
    "\n",
    "    elif event == cv2.EVENT_MOUSEMOVE and selecting:\n",
    "        # If we're dragging the selection square, update it.\n",
    "        image = clone.copy()\n",
    "        x0, y0, x1, y1 = get_square_coords(x, y, *select_coords[0])\n",
    "        cv2.rectangle(image, (x0, y0), (x1, y1), (0, 255, 0), 2)\n",
    "\n",
    "    elif event == cv2.EVENT_LBUTTONUP:\n",
    "        # Left mouse button up: the selection has been made.\n",
    "        select_coords.append((x, y))\n",
    "        selecting = False\n",
    "\n",
    "\n",
    "# The cropped image will be saved with this filename.\n",
    "cropped_filename = os.path.splitext(image_path)[0] + '_' + current_datetime + '.png'\n",
    "cropped_basename = os.path.basename(cropped_filename)\n",
    "\n",
    "# Store a clone of the original image (without selected region annotation).\n",
    "clone = image.copy()\n",
    "\n",
    "# Name the main image window after the image filename.\n",
    "cv2.namedWindow(basename)\n",
    "cv2.setMouseCallback(basename, region_selection)\n",
    "\n",
    "# Keep looping and listening for user input until 'c' is pressed.\n",
    "while True:\n",
    "    # Display the image and wait for a keypress\n",
    "    cv2.imshow(basename, image)\n",
    "    key = cv2.waitKey(1) & 0xFF\n",
    "    # If 'c' is pressed, break from the loop and handle any region selection.\n",
    "    if key == ord(\"c\"):\n",
    "        break\n",
    "# Did we make a selection?\n",
    "if len(select_coords) == 2:\n",
    "    cx, cy = select_coords[0]\n",
    "    x, y = select_coords[1]\n",
    "    x0, y0, x1, y1 = get_square_coords(x, y, cx, cy)\n",
    "    # Crop the image to the selected region and display in a new window.\n",
    "    cropped_image = clone[y0:y1, x0:x1]\n",
    "    cv2.imshow(cropped_basename, cropped_image)\n",
    "    #cv2.imwrite(cropped_filename, cropped_image)\n",
    "    cv2.imwrite(os.path.join(output_dir, cropped_basename), cropped_image)\n",
    "    # Wait until any key press.\n",
    "    cv2.waitKey(0)\n",
    "\n",
    "# We're done: close all open windows before exiting.\n",
    "cv2.destroyAllWindows()\n",
    "\n",
    "# Ref: https://scipython.com/blog/cropping-a-square-region-from-an-image/"
   ],
   "metadata": {
    "collapsed": false
   }
  }
 ],
 "metadata": {
  "kernelspec": {
   "display_name": "Python 3",
   "language": "python",
   "name": "python3"
  },
  "language_info": {
   "codemirror_mode": {
    "name": "ipython",
    "version": 2
   },
   "file_extension": ".py",
   "mimetype": "text/x-python",
   "name": "python",
   "nbconvert_exporter": "python",
   "pygments_lexer": "ipython2",
   "version": "2.7.6"
  }
 },
 "nbformat": 4,
 "nbformat_minor": 0
}
