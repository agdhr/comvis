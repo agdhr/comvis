{
 "cells": [
  {
   "cell_type": "code",
   "execution_count": null,
   "metadata": {
    "collapsed": true
   },
   "outputs": [],
   "source": [
    "import matplotlib.pyplot as plt\n",
    "import numpy as np\n",
    "import cv2"
   ]
  },
  {
   "cell_type": "code",
   "execution_count": null,
   "outputs": [],
   "source": [
    "# path of the folder containing the images\n",
    "imgPath = '05-transparent/20230119/ARABIKA_nobg/JA05S01_20230119_223328_segmented_transparent.nobg.png'\n",
    "\n",
    "image = cv2.imread(imgPath, cv2.IMREAD_UNCHANGED)\n",
    "cv2.imshow('Raw image', image)\n",
    "print(image.shape)\n",
    "h, w, c = image.shape"
   ],
   "metadata": {
    "collapsed": false
   }
  },
  {
   "cell_type": "code",
   "execution_count": null,
   "outputs": [],
   "source": [
    "# HISTORGRAM BGR COLOR SPACE\n",
    "# --- BGR split\n",
    "b, g, r, alpha = cv2.split(image)\n",
    "rgb_split = np.empty([h, w*3, 3], 'uint8')\n",
    "rgb_split[:,0:w] = cv2.merge([b,b,b])\n",
    "rgb_split[:, w:w*2] = cv2.merge([g,g,g])\n",
    "rgb_split[:, w*2:w*3] = cv2.merge([r,r,r])\n",
    "\n",
    "cv2.imshow(\"RGB color channels\", rgb_split)\n",
    "cv2.imwrite('RGB_channel_split.png', rgb_split)\n",
    "cv2.waitKey(0)\n",
    "\n",
    "bgr_clr = ('b', 'g', 'r')\n",
    "for channel,col in enumerate(bgr_clr):\n",
    "    histogram = cv2.calcHist([image], [channel], None, [256], [1,260])\n",
    "    plt.plot(histogram, color = col)\n",
    "    plt.xlim([1, 260])\n",
    "#plt.title('Histogram for RGB color space')\n",
    "plt.xlabel('Bins')\n",
    "plt.ylabel('Num of pixels')\n",
    "plt.show()"
   ],
   "metadata": {
    "collapsed": false
   }
  },
  {
   "cell_type": "code",
   "execution_count": null,
   "outputs": [],
   "source": [
    "# HISTORGRAM HSV COLOR SPACE\n",
    "hsv = cv2.cvtColor(image, cv2.COLOR_BGR2HSV)\n",
    "cv2.imshow('HSV image', hsv)\n",
    "cv2.imwrite('img_hsvimage.png', hsv)\n",
    "cv2.waitKey(0)\n",
    "\n",
    "h, s, v = hsv[:,:,0], hsv[:,:,1], hsv[:,:,2]\n",
    "hist_h = cv2.calcHist([h], [0], None, [256], [2,256])\n",
    "hist_s = cv2.calcHist([s], [0], None, [256], [2,256])\n",
    "hist_v = cv2.calcHist([v], [0], None, [256], [2,256])\n",
    "plt.plot(hist_h, color='c', label='h')\n",
    "plt.plot(hist_s, color='m', label='s')\n",
    "plt.plot(hist_v, color='y', label='v')\n",
    "plt.legend(loc='upper center')\n",
    "plt.xlabel('Bins')\n",
    "plt.ylabel('Num of pixels')\n",
    "plt.show()\n",
    "\n",
    "cv2.destroyAllWindows"
   ],
   "metadata": {
    "collapsed": false
   }
  }
 ],
 "metadata": {
  "kernelspec": {
   "display_name": "Python 3",
   "language": "python",
   "name": "python3"
  },
  "language_info": {
   "codemirror_mode": {
    "name": "ipython",
    "version": 2
   },
   "file_extension": ".py",
   "mimetype": "text/x-python",
   "name": "python",
   "nbconvert_exporter": "python",
   "pygments_lexer": "ipython2",
   "version": "2.7.6"
  }
 },
 "nbformat": 4,
 "nbformat_minor": 0
}
